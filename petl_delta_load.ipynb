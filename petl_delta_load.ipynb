{
 "cells": [
  {
   "cell_type": "code",
   "execution_count": 9,
   "id": "4be7a655",
   "metadata": {},
   "outputs": [],
   "source": [
    "import psycopg2 as pg\n",
    "import sqlalchemy\n",
    "import petl as etl\n",
    "from datetime import datetime\n",
    "import pytz"
   ]
  },
  {
   "cell_type": "code",
   "execution_count": 6,
   "id": "8a54e825",
   "metadata": {},
   "outputs": [],
   "source": [
    "from petl import datetimeparser\n",
    "isodatetime = datetimeparser('%Y-%m-%d %H:%M:%S')"
   ]
  },
  {
   "cell_type": "code",
   "execution_count": 7,
   "id": "dde81b07",
   "metadata": {},
   "outputs": [
    {
     "ename": "KeyboardInterrupt",
     "evalue": "",
     "output_type": "error",
     "traceback": [
      "\u001b[0;31m---------------------------------------------------------------------------\u001b[0m",
      "\u001b[0;31mOperationalError\u001b[0m                          Traceback (most recent call last)",
      "    \u001b[0;31m[... skipping hidden 1 frame]\u001b[0m\n",
      "\u001b[0;32m/tmp/ipykernel_563/3054138769.py\u001b[0m in \u001b[0;36m<module>\u001b[0;34m\u001b[0m\n\u001b[0;32m----> 1\u001b[0;31m \u001b[0mconn\u001b[0m \u001b[0;34m=\u001b[0m \u001b[0mpg\u001b[0m\u001b[0;34m.\u001b[0m\u001b[0mconnect\u001b[0m\u001b[0;34m(\u001b[0m\u001b[0;34m\"host=172.25.0.3 dbname=datas user=airflow password=airflow\"\u001b[0m\u001b[0;34m)\u001b[0m\u001b[0;34m\u001b[0m\u001b[0;34m\u001b[0m\u001b[0m\n\u001b[0m",
      "\u001b[0;32m/opt/conda/lib/python3.9/site-packages/psycopg2/__init__.py\u001b[0m in \u001b[0;36mconnect\u001b[0;34m(dsn, connection_factory, cursor_factory, **kwargs)\u001b[0m\n\u001b[1;32m    121\u001b[0m     \u001b[0mdsn\u001b[0m \u001b[0;34m=\u001b[0m \u001b[0m_ext\u001b[0m\u001b[0;34m.\u001b[0m\u001b[0mmake_dsn\u001b[0m\u001b[0;34m(\u001b[0m\u001b[0mdsn\u001b[0m\u001b[0;34m,\u001b[0m \u001b[0;34m**\u001b[0m\u001b[0mkwargs\u001b[0m\u001b[0;34m)\u001b[0m\u001b[0;34m\u001b[0m\u001b[0;34m\u001b[0m\u001b[0m\n\u001b[0;32m--> 122\u001b[0;31m     \u001b[0mconn\u001b[0m \u001b[0;34m=\u001b[0m \u001b[0m_connect\u001b[0m\u001b[0;34m(\u001b[0m\u001b[0mdsn\u001b[0m\u001b[0;34m,\u001b[0m \u001b[0mconnection_factory\u001b[0m\u001b[0;34m=\u001b[0m\u001b[0mconnection_factory\u001b[0m\u001b[0;34m,\u001b[0m \u001b[0;34m**\u001b[0m\u001b[0mkwasync\u001b[0m\u001b[0;34m)\u001b[0m\u001b[0;34m\u001b[0m\u001b[0;34m\u001b[0m\u001b[0m\n\u001b[0m\u001b[1;32m    123\u001b[0m     \u001b[0;32mif\u001b[0m \u001b[0mcursor_factory\u001b[0m \u001b[0;32mis\u001b[0m \u001b[0;32mnot\u001b[0m \u001b[0;32mNone\u001b[0m\u001b[0;34m:\u001b[0m\u001b[0;34m\u001b[0m\u001b[0;34m\u001b[0m\u001b[0m\n",
      "\u001b[0;31mOperationalError\u001b[0m: could not connect to server: Connection refused\n\tIs the server running on host \"172.25.0.3\" and accepting\n\tTCP/IP connections on port 5432?\n",
      "\nDuring handling of the above exception, another exception occurred:\n",
      "\u001b[0;31mKeyboardInterrupt\u001b[0m                         Traceback (most recent call last)",
      "\u001b[0;31mKeyboardInterrupt\u001b[0m: "
     ]
    }
   ],
   "source": [
    "conn = pg.connect(\"host=172.25.0.3 dbname=datas user=airflow password=airflow\")"
   ]
  },
  {
   "cell_type": "code",
   "execution_count": null,
   "id": "6ec7bc41",
   "metadata": {},
   "outputs": [],
   "source": [
    "delta_info = etl.fromdb(conn, 'SELECT count(1)+1 count_rec,max(end_ts) last_e_ts FROM olist.olist_delta')\n",
    "delta_info"
   ]
  },
  {
   "cell_type": "code",
   "execution_count": null,
   "id": "c09f186c",
   "metadata": {},
   "outputs": [],
   "source": [
    "now = datetime.now()\n",
    "now_str = now.strftime(\"%Y-%d-%m %H:%M:%S\")\n",
    "lv_last_e_ts = datetime(2000,1,1,0,0,0) if delta_info['last_e_ts'][0] == None else delta_info['last_e_ts'][0] \n",
    "lv_delta_id = delta_info['count_rec'][0]\n",
    "lv_last_e_ts\n",
    "lv_delta_id"
   ]
  },
  {
   "cell_type": "code",
   "execution_count": 73,
   "id": "2d8dd624",
   "metadata": {},
   "outputs": [
    {
     "data": {
      "text/html": [
       "<table class='petl'>\n",
       "<thead>\n",
       "<tr>\n",
       "<th>id</th>\n",
       "<th>data</th>\n",
       "<th>modi_date</th>\n",
       "</tr>\n",
       "</thead>\n",
       "<tbody>\n",
       "<tr>\n",
       "<td style='text-align: right'>1</td>\n",
       "<td>sdsdsd</td>\n",
       "<td>2012-01-07 00:00:00</td>\n",
       "</tr>\n",
       "<tr>\n",
       "<td style='text-align: right'>2</td>\n",
       "<td>sdsdjfhsd</td>\n",
       "<td>2012-01-07 00:01:00</td>\n",
       "</tr>\n",
       "<tr>\n",
       "<td style='text-align: right'>3</td>\n",
       "<td>x</td>\n",
       "<td>2012-01-07 00:00:00</td>\n",
       "</tr>\n",
       "<tr>\n",
       "<td style='text-align: right'>4</td>\n",
       "<td>d</td>\n",
       "<td>2012-01-08 00:00:00</td>\n",
       "</tr>\n",
       "<tr>\n",
       "<td style='text-align: right'>5</td>\n",
       "<td>sdd</td>\n",
       "<td>2012-01-07 00:00:00</td>\n",
       "</tr>\n",
       "</tbody>\n",
       "</table>\n",
       "<p><strong>...</strong></p>"
      ],
      "text/plain": [
       "+----+-------------+-----------------------+\n",
       "| id | data        | modi_date             |\n",
       "+====+=============+=======================+\n",
       "|  1 | 'sdsdsd'    | '2012-01-07 00:00:00' |\n",
       "+----+-------------+-----------------------+\n",
       "|  2 | 'sdsdjfhsd' | '2012-01-07 00:01:00' |\n",
       "+----+-------------+-----------------------+\n",
       "|  3 | 'x'         | '2012-01-07 00:00:00' |\n",
       "+----+-------------+-----------------------+\n",
       "|  4 | 'd'         | '2012-01-08 00:00:00' |\n",
       "+----+-------------+-----------------------+\n",
       "|  5 | 'sdd'       | '2012-01-07 00:00:00' |\n",
       "+----+-------------+-----------------------+\n",
       "..."
      ]
     },
     "execution_count": 73,
     "metadata": {},
     "output_type": "execute_result"
    }
   ],
   "source": [
    "table1 = etl.fromcsv(source = '/home/jovyan/work/test1.csv',delimiter = ';')\n",
    "table1 = etl.convert(table1,'id',int)\n",
    "table1"
   ]
  },
  {
   "cell_type": "code",
   "execution_count": 74,
   "id": "85fcd4aa",
   "metadata": {},
   "outputs": [
    {
     "data": {
      "text/html": [
       "<table class='petl'>\n",
       "<thead>\n",
       "<tr>\n",
       "<th>id</th>\n",
       "<th>data</th>\n",
       "<th>modi_date</th>\n",
       "</tr>\n",
       "</thead>\n",
       "<tbody>\n",
       "<tr>\n",
       "<td style='text-align: right'>1</td>\n",
       "<td>sdsdsd</td>\n",
       "<td>2012-01-07 00:00:00</td>\n",
       "</tr>\n",
       "<tr>\n",
       "<td style='text-align: right'>2</td>\n",
       "<td>sdsdjfhsd</td>\n",
       "<td>2012-01-07 00:01:00</td>\n",
       "</tr>\n",
       "<tr>\n",
       "<td style='text-align: right'>3</td>\n",
       "<td>x</td>\n",
       "<td>2012-01-07 00:00:00</td>\n",
       "</tr>\n",
       "<tr>\n",
       "<td style='text-align: right'>4</td>\n",
       "<td>d</td>\n",
       "<td>2012-01-08 00:00:00</td>\n",
       "</tr>\n",
       "<tr>\n",
       "<td style='text-align: right'>5</td>\n",
       "<td>sdd</td>\n",
       "<td>2012-01-07 00:00:00</td>\n",
       "</tr>\n",
       "</tbody>\n",
       "</table>\n",
       "<p><strong>...</strong></p>"
      ],
      "text/plain": [
       "+----+-------------+-------------------------------------+\n",
       "| id | data        | modi_date                           |\n",
       "+====+=============+=====================================+\n",
       "|  1 | 'sdsdsd'    | datetime.datetime(2012, 1, 7, 0, 0) |\n",
       "+----+-------------+-------------------------------------+\n",
       "|  2 | 'sdsdjfhsd' | datetime.datetime(2012, 1, 7, 0, 1) |\n",
       "+----+-------------+-------------------------------------+\n",
       "|  3 | 'x'         | datetime.datetime(2012, 1, 7, 0, 0) |\n",
       "+----+-------------+-------------------------------------+\n",
       "|  4 | 'd'         | datetime.datetime(2012, 1, 8, 0, 0) |\n",
       "+----+-------------+-------------------------------------+\n",
       "|  5 | 'sdd'       | datetime.datetime(2012, 1, 7, 0, 0) |\n",
       "+----+-------------+-------------------------------------+\n",
       "..."
      ]
     },
     "execution_count": 74,
     "metadata": {},
     "output_type": "execute_result"
    }
   ],
   "source": [
    "table1 = etl.convert(table1,{\"modi_date\": lambda d: isodatetime(d)})\n",
    "table1"
   ]
  },
  {
   "cell_type": "code",
   "execution_count": 4,
   "id": "b74a7c95",
   "metadata": {},
   "outputs": [
    {
     "ename": "NameError",
     "evalue": "name 'table1' is not defined",
     "output_type": "error",
     "traceback": [
      "\u001b[0;31m---------------------------------------------------------------------------\u001b[0m",
      "\u001b[0;31mNameError\u001b[0m                                 Traceback (most recent call last)",
      "\u001b[0;32m/tmp/ipykernel_563/2011212227.py\u001b[0m in \u001b[0;36m<module>\u001b[0;34m\u001b[0m\n\u001b[1;32m      1\u001b[0m \u001b[0mtestdate\u001b[0m \u001b[0;34m=\u001b[0m \u001b[0mdatetime\u001b[0m\u001b[0;34m(\u001b[0m\u001b[0;36m2012\u001b[0m\u001b[0;34m,\u001b[0m \u001b[0;36m1\u001b[0m\u001b[0;34m,\u001b[0m \u001b[0;36m7\u001b[0m\u001b[0;34m,\u001b[0m \u001b[0;36m0\u001b[0m\u001b[0;34m,\u001b[0m \u001b[0;36m1\u001b[0m\u001b[0;34m,\u001b[0m\u001b[0;36m0\u001b[0m\u001b[0;34m)\u001b[0m\u001b[0;34m\u001b[0m\u001b[0;34m\u001b[0m\u001b[0m\n\u001b[0;32m----> 2\u001b[0;31m \u001b[0mtable2\u001b[0m \u001b[0;34m=\u001b[0m  \u001b[0metl\u001b[0m\u001b[0;34m.\u001b[0m\u001b[0mselect\u001b[0m\u001b[0;34m(\u001b[0m\u001b[0mtable1\u001b[0m\u001b[0;34m,\u001b[0m\u001b[0;32mlambda\u001b[0m \u001b[0mrec\u001b[0m\u001b[0;34m:\u001b[0m \u001b[0mrec\u001b[0m\u001b[0;34m.\u001b[0m\u001b[0mmodi_date\u001b[0m \u001b[0;34m>=\u001b[0m \u001b[0mlv_last_e_ts\u001b[0m \u001b[0;32mand\u001b[0m \u001b[0mrec\u001b[0m\u001b[0;34m.\u001b[0m\u001b[0mmodi_date\u001b[0m \u001b[0;34m<\u001b[0m \u001b[0mnow\u001b[0m\u001b[0;34m)\u001b[0m\u001b[0;34m\u001b[0m\u001b[0;34m\u001b[0m\u001b[0m\n\u001b[0m\u001b[1;32m      3\u001b[0m \u001b[0mtable3\u001b[0m \u001b[0;34m=\u001b[0m \u001b[0metl\u001b[0m\u001b[0;34m.\u001b[0m\u001b[0maddfield\u001b[0m\u001b[0;34m(\u001b[0m\u001b[0mtable2\u001b[0m\u001b[0;34m,\u001b[0m\u001b[0;34m'load_date'\u001b[0m\u001b[0;34m,\u001b[0m\u001b[0mnow\u001b[0m\u001b[0;34m)\u001b[0m\u001b[0;34m\u001b[0m\u001b[0;34m\u001b[0m\u001b[0m\n\u001b[1;32m      4\u001b[0m \u001b[0mtable3\u001b[0m\u001b[0;34m.\u001b[0m\u001b[0mnrows\u001b[0m\u001b[0;34m(\u001b[0m\u001b[0;34m)\u001b[0m\u001b[0;34m\u001b[0m\u001b[0;34m\u001b[0m\u001b[0m\n",
      "\u001b[0;31mNameError\u001b[0m: name 'table1' is not defined"
     ]
    }
   ],
   "source": [
    "testdate = datetime(2012, 1, 7, 0, 1,0)\n",
    "table2 =  etl.select(table1, lambda rec: rec.modi_date >= lv_last_e_ts and rec.modi_date < now)\n",
    "table3 = etl.addfield(table2,'load_date',now)\n",
    "table3.nrows()"
   ]
  },
  {
   "cell_type": "code",
   "execution_count": 3,
   "id": "568f290a",
   "metadata": {},
   "outputs": [
    {
     "ename": "NameError",
     "evalue": "name 'table3' is not defined",
     "output_type": "error",
     "traceback": [
      "\u001b[0;31m---------------------------------------------------------------------------\u001b[0m",
      "\u001b[0;31mNameError\u001b[0m                                 Traceback (most recent call last)",
      "\u001b[0;32m/tmp/ipykernel_563/1214565057.py\u001b[0m in \u001b[0;36m<module>\u001b[0;34m\u001b[0m\n\u001b[0;32m----> 1\u001b[0;31m \u001b[0metl\u001b[0m\u001b[0;34m.\u001b[0m\u001b[0mtodb\u001b[0m\u001b[0;34m(\u001b[0m\u001b[0mtable\u001b[0m \u001b[0;34m=\u001b[0m  \u001b[0mtable3\u001b[0m \u001b[0;34m,\u001b[0m\u001b[0mdbo\u001b[0m \u001b[0;34m=\u001b[0m \u001b[0mconn\u001b[0m\u001b[0;34m,\u001b[0m \u001b[0mtablename\u001b[0m \u001b[0;34m=\u001b[0m \u001b[0;34m\"test_csvpetl_2\"\u001b[0m\u001b[0;34m,\u001b[0m \u001b[0mschema\u001b[0m \u001b[0;34m=\u001b[0m \u001b[0;34m'olist'\u001b[0m\u001b[0;34m,\u001b[0m \u001b[0mdrop\u001b[0m \u001b[0;34m=\u001b[0m \u001b[0;32mTrue\u001b[0m\u001b[0;34m)\u001b[0m\u001b[0;34m\u001b[0m\u001b[0;34m\u001b[0m\u001b[0m\n\u001b[0m",
      "\u001b[0;31mNameError\u001b[0m: name 'table3' is not defined"
     ]
    }
   ],
   "source": [
    "etl.todb(table = table3, dbo = conn, tablename = \"test_csvpetl_2\", schema = 'olist', drop = True)"
   ]
  },
  {
   "cell_type": "code",
   "execution_count": 122,
   "id": "2d7a8440",
   "metadata": {},
   "outputs": [
    {
     "data": {
      "text/html": [
       "<table class='petl'>\n",
       "<thead>\n",
       "<tr>\n",
       "<th>delta_id</th>\n",
       "<th>start_ts</th>\n",
       "<th>end_ts</th>\n",
       "<th>delta_object</th>\n",
       "<th>ts</th>\n",
       "</tr>\n",
       "</thead>\n",
       "<tbody>\n",
       "<tr>\n",
       "<td style='text-align: right'>1</td>\n",
       "<td>2000-01-01 00:00:00</td>\n",
       "<td>2021-08-06 06:14:27.349629</td>\n",
       "<td>None</td>\n",
       "<td>2021-08-06 06:14:27.349629</td>\n",
       "</tr>\n",
       "</tbody>\n",
       "</table>\n"
      ],
      "text/plain": [
       "+----------+-------------------------------------+--------------------------------------------------+--------------+--------------------------------------------------+\n",
       "| delta_id | start_ts                            | end_ts                                           | delta_object | ts                                               |\n",
       "+==========+=====================================+==================================================+==============+==================================================+\n",
       "|        1 | datetime.datetime(2000, 1, 1, 0, 0) | datetime.datetime(2021, 8, 6, 6, 14, 27, 349629) | None         | datetime.datetime(2021, 8, 6, 6, 14, 27, 349629) |\n",
       "+----------+-------------------------------------+--------------------------------------------------+--------------+--------------------------------------------------+"
      ]
     },
     "execution_count": 122,
     "metadata": {},
     "output_type": "execute_result"
    }
   ],
   "source": [
    "delta_table_new = etl.setheader([['delta_id','start_ts','end_ts','delta_object','ts'],[lv_delta_id,lv_last_e_ts,now,None,now]],['delta_id','start_ts','end_ts','delta_object','ts'])\n",
    "delta_table_new"
   ]
  },
  {
   "cell_type": "code",
   "execution_count": 123,
   "id": "e1099d5a",
   "metadata": {},
   "outputs": [],
   "source": [
    "etl.todb(table =  delta_table_new ,dbo = conn, tablename = \"olist_delta\", schema = 'olist')"
   ]
  },
  {
   "cell_type": "code",
   "execution_count": 124,
   "id": "427e49d1",
   "metadata": {},
   "outputs": [],
   "source": [
    "conn.close()"
   ]
  }
 ],
 "metadata": {
  "kernelspec": {
   "display_name": "Python 3 (ipykernel)",
   "language": "python",
   "name": "python3"
  },
  "language_info": {
   "codemirror_mode": {
    "name": "ipython",
    "version": 3
   },
   "file_extension": ".py",
   "mimetype": "text/x-python",
   "name": "python",
   "nbconvert_exporter": "python",
   "pygments_lexer": "ipython3",
   "version": "3.9.2"
  }
 },
 "nbformat": 4,
 "nbformat_minor": 5
}
